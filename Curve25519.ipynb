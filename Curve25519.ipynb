{
 "cells": [
  {
   "cell_type": "code",
   "execution_count": 1,
   "metadata": {
    "collapsed": true
   },
   "outputs": [],
   "source": [
    "\n",
    "class FieldElement:\n",
    "\n",
    "    def __init__(self, num, prime):\n",
    "        self.num = num\n",
    "        self.prime = prime\n",
    "        if self.num >= self.prime or self.num < 0:\n",
    "            error = 'Num {} not in field range 0 to {}'.format(\n",
    "                self.num, self.prime-1)\n",
    "            raise RuntimeError(error)\n",
    "\n",
    "    def __eq__(self, other):\n",
    "        if other is None:\n",
    "            return False\n",
    "        return self.num == other.num and self.prime == other.prime\n",
    "\n",
    "    def __ne__(self, other):\n",
    "        if other is None:\n",
    "            return True\n",
    "        return self.num != other.num or self.prime != other.prime\n",
    "\n",
    "    def __repr__(self):\n",
    "        return 'FieldElement_{}({})'.format(self.prime, self.num)\n",
    "\n",
    "    def __add__(self, other):\n",
    "        if self.prime != other.prime:\n",
    "            raise RuntimeError('Primes must be the same')\n",
    "        # self.num and other.num are the actual values\n",
    "        num = (self.num + other.num) % self.prime\n",
    "        # self.prime is what you'll need to mod against\n",
    "        prime = self.prime\n",
    "        # You need to return an element of the same class\n",
    "        # use: self.__class__(num, prime)\n",
    "        return self.__class__(num, prime)\n",
    "\n",
    "    def __sub__(self, other):\n",
    "        if self.prime != other.prime:\n",
    "            raise RuntimeError('Primes must be the same')\n",
    "        # self.num and other.num are the actual values\n",
    "        num = (self.num - other.num) % self.prime\n",
    "        # self.prime is what you'll need to mod against\n",
    "        prime = self.prime\n",
    "        # You need to return an element of the same class\n",
    "        # use: self.__class__(num, prime)\n",
    "        return self.__class__(num, prime)\n",
    "\n",
    "    def __mul__(self, other):\n",
    "        if self.prime != other.prime:\n",
    "            raise RuntimeError('Primes must be the same')\n",
    "        # self.num and other.num are the actual values\n",
    "        num = (self.num * other.num) % self.prime\n",
    "        # self.prime is what you'll need to mod against\n",
    "        prime = self.prime\n",
    "        # You need to return an element of the same class\n",
    "        # use: self.__class__(num, prime)\n",
    "        return self.__class__(num, prime)\n",
    "\n",
    "    def __rmul__(self, coefficient):\n",
    "        num = (self.num * coefficient) % self.prime\n",
    "        return self.__class__(num=num, prime=self.prime)\n",
    "\n",
    "    def __pow__(self, n):\n",
    "        # remember fermat's little theorem:\n",
    "        # self.num**(p-1) % p == 1\n",
    "        # you might want to use % operator on n\n",
    "        prime = self.prime\n",
    "        num = pow(self.num, n % (prime-1), prime)\n",
    "        return self.__class__(num, prime)\n",
    "\n",
    "    def __truediv__(self, other):\n",
    "        if self.prime != other.prime:\n",
    "            raise RuntimeError('Primes must be the same')\n",
    "        # self.num and other.num are the actual values\n",
    "        num = (self.num * pow(other.num, self.prime - 2, self.prime)) % self.prime\n",
    "        # self.prime is what you'll need to mod against\n",
    "        prime = self.prime\n",
    "        # use fermat's little theorem:\n",
    "        # self.num**(p-1) % p == 1\n",
    "        # this means:\n",
    "        # 1/n == pow(n, p-2, p)\n",
    "        # You need to return an element of the same class\n",
    "        # use: self.__class__(num, prime)\n",
    "        return self.__class__(num, prime)"
   ]
  },
  {
   "cell_type": "code",
   "execution_count": 145,
   "metadata": {
    "collapsed": true
   },
   "outputs": [],
   "source": [
    "# source: https://en.wikipedia.org/wiki/Curve25519\n",
    "class Point:\n",
    "\n",
    "    def __init__(self, x, y, a, b):\n",
    "        self.a = a\n",
    "        self.b = b\n",
    "        self.x = x\n",
    "        self.y = y\n",
    "        # x being None and y being None represents the point at infinity\n",
    "        # Check for that here since the equation below won't make sense\n",
    "        # with None values for both.\n",
    "        if self.x is None and self.y is None:\n",
    "            return\n",
    "        # make sure that the elliptic curve equation is satisfied\n",
    "        # y**2 == x**3 + a*x**2 + b * x\n",
    "        # again, source:\n",
    "        # https://en.wikipedia.org/wiki/Curve25519\n",
    "        if self.y**2 != self.x**3 + a*x**2 + b*x:\n",
    "        # if not, throw a RuntimeError\n",
    "            raise RuntimeError('({}, {}) is not on the curve'.format(self.x, self.y))\n",
    "\n",
    "    def __eq__(self, other):\n",
    "        return self.x == other.x and self.y == other.y \\\n",
    "            and self.a == other.a and self.b == other.b\n",
    "\n",
    "    def __ne__(self, other):\n",
    "        return self.x != other.x or self.y != other.y \\\n",
    "            or self.a != other.a or self.b != other.b\n",
    "\n",
    "    def __repr__(self):\n",
    "        if self.x is None:\n",
    "            return 'Point(infinity)'\n",
    "        else:\n",
    "            return 'Point({},{})_{}'.format(self.x.num, self.y.num, self.x.prime)\n",
    "\n",
    "    def __add__(self, other):\n",
    "        if self.a != other.a or self.b != other.b:\n",
    "            raise RuntimeError('Points {}, {} are not on the same curve'.format(self, other))\n",
    "        # Case 0.0: self is the point at infinity, return other\n",
    "        if self.x is None:\n",
    "            return other\n",
    "        # Case 0.1: other is the point at infinity, return self\n",
    "        if other.x is None:\n",
    "            return self\n",
    "\n",
    "        # Case 1: self.x == other.x, self.y != other.y\n",
    "        # Result is point at infinity\n",
    "        if self.x == other.x and self.y != other.y:\n",
    "        # Remember to return an instance of this class:\n",
    "        # self.__class__(x, y, a, b)\n",
    "            return self.__class__(None, None, self.a, self.b)\n",
    " \n",
    "        # Case 2: self.x != other.x\n",
    "        if self.x != other.x:\n",
    "        # Formula (x3,y3)==(x1,y1)+(x2,y2)\n",
    "        # s=(y2-y1)/(x2-x1)\n",
    "            s = (other.y - self.y) / (other.x - self.x)\n",
    "            v = (self.y * other.x - other.y * self.x) / (other.x - self.x)\n",
    "        # x3=s**2-x1-x2\n",
    "            x = s**2 - self.a - self.x - other.x\n",
    "        # y3=s*(x1-x3)-y1\n",
    "            y = -1 * s * x - v \n",
    "        # Remember to return an instance of this class:\n",
    "        # self.__class__(x, y, a, b)\n",
    "            return self.__class__(x, y, self.a, self.b)\n",
    "\n",
    "        # Case 3: self.x == other.x, self.y == other.y\n",
    "        else:\n",
    "        # Formula (x3,y3)=(x1,y1)+(x1,y1)\n",
    "        # s=(3*x1**2+a)/(2*y1)\n",
    "            s = (3*self.x**2 + 2 * self.a * self.x + self.b) / (2*self.y)\n",
    "            v = (-1 * self.x**3 + self.b * self.x) / (2*self.y)\n",
    "        # x3=s**2-2*x1\n",
    "            x = s**2 - self.a - 2*self.x\n",
    "        # y3=s*(x1-x3)-y1\n",
    "            y = -1 * s*x - v\n",
    "        # Remember to return an instance of this class:\n",
    "        # self.__class__(x, y, a, b)\n",
    "            return self.__class__(x, y, self.a, self.b)\n",
    "\n",
    "    def __rmul__(self, coefficient):\n",
    "        # rmul calculates coefficient * self\n",
    "        # implement the naive way:\n",
    "        # start product from 0 (point at infinity)\n",
    "        # use: self.__class__(None, None, a, b)\n",
    "        product = self.__class__(None, None, self.a, self.b)\n",
    "        # loop coefficient times\n",
    "        # use: for _ in range(coefficient):\n",
    "        for _ in range(coefficient):\n",
    "            # keep adding self over and over\n",
    "            product += self\n",
    "        # return the product\n",
    "        return product\n",
    "        # Extra Credit:\n",
    "        # a more advanced technique uses point doubling\n",
    "        # find the binary representation of coefficient\n",
    "        # keep doubling the point and if the bit is there for coefficient\n",
    "        # add the current.\n",
    "        # remember to return an instance of the class"
   ]
  },
  {
   "cell_type": "code",
   "execution_count": 146,
   "metadata": {
    "collapsed": true
   },
   "outputs": [],
   "source": [
    "def int_to_bytes(x):\n",
    "    return x.to_bytes((x.bit_length() + 7) // 8, 'big')"
   ]
  },
  {
   "cell_type": "code",
   "execution_count": 147,
   "metadata": {
    "collapsed": false
   },
   "outputs": [
    {
     "data": {
      "text/plain": [
       "b'\\t'"
      ]
     },
     "execution_count": 147,
     "metadata": {},
     "output_type": "execute_result"
    }
   ],
   "source": [
    "int_to_bytes(9)"
   ]
  },
  {
   "cell_type": "code",
   "execution_count": 148,
   "metadata": {
    "collapsed": false,
    "deletable": true,
    "editable": true
   },
   "outputs": [],
   "source": [
    "P = 2**255 - 19\n",
    "N = int_to_bytes(9).hex()"
   ]
  },
  {
   "cell_type": "code",
   "execution_count": 149,
   "metadata": {
    "collapsed": true
   },
   "outputs": [],
   "source": [
    "x = FieldElement(1, P)"
   ]
  },
  {
   "cell_type": "code",
   "execution_count": 150,
   "metadata": {
    "collapsed": false
   },
   "outputs": [],
   "source": [
    "x = FieldElement(9, P)"
   ]
  },
  {
   "cell_type": "code",
   "execution_count": 151,
   "metadata": {
    "collapsed": false
   },
   "outputs": [
    {
     "data": {
      "text/plain": [
       "FieldElement_57896044618658097711785492504343953926634992332820282019728792003956564819949(9)"
      ]
     },
     "execution_count": 151,
     "metadata": {},
     "output_type": "execute_result"
    }
   ],
   "source": [
    "x"
   ]
  },
  {
   "cell_type": "code",
   "execution_count": 152,
   "metadata": {
    "collapsed": false
   },
   "outputs": [],
   "source": [
    "y2 = pow(x, 3) + 486662*pow(x, 2) + x"
   ]
  },
  {
   "cell_type": "code",
   "execution_count": 153,
   "metadata": {
    "collapsed": false
   },
   "outputs": [
    {
     "data": {
      "text/plain": [
       "FieldElement_57896044618658097711785492504343953926634992332820282019728792003956564819949(39420360)"
      ]
     },
     "execution_count": 153,
     "metadata": {},
     "output_type": "execute_result"
    }
   ],
   "source": [
    "y2"
   ]
  },
  {
   "cell_type": "code",
   "execution_count": 154,
   "metadata": {
    "collapsed": false
   },
   "outputs": [],
   "source": [
    "y = FieldElement(14781619447589544791020593568409986887264606134616475288964881837755586237401, P)"
   ]
  },
  {
   "cell_type": "code",
   "execution_count": 155,
   "metadata": {
    "collapsed": false
   },
   "outputs": [
    {
     "data": {
      "text/plain": [
       "FieldElement_57896044618658097711785492504343953926634992332820282019728792003956564819949(39420360)"
      ]
     },
     "execution_count": 155,
     "metadata": {},
     "output_type": "execute_result"
    }
   ],
   "source": [
    "y**2"
   ]
  },
  {
   "cell_type": "code",
   "execution_count": 156,
   "metadata": {
    "collapsed": false
   },
   "outputs": [],
   "source": [
    "prime = 2**255 - 19"
   ]
  },
  {
   "cell_type": "code",
   "execution_count": 157,
   "metadata": {
    "collapsed": false
   },
   "outputs": [
    {
     "data": {
      "text/plain": [
       "Point(9,14781619447589544791020593568409986887264606134616475288964881837755586237401)_57896044618658097711785492504343953926634992332820282019728792003956564819949"
      ]
     },
     "execution_count": 157,
     "metadata": {},
     "output_type": "execute_result"
    }
   ],
   "source": [
    "a = FieldElement(486662, prime)\n",
    "b = FieldElement(1, prime)\n",
    "\n",
    "x = FieldElement(9, prime)\n",
    "y = FieldElement(14781619447589544791020593568409986887264606134616475288964881837755586237401, prime)\n",
    "p = Point(x, y, a, b)\n",
    "inf = Point(None, None, a, b)\n",
    "\n",
    "# start product at point\n",
    "# start counter at 1\n",
    "# loop until you get point at infinity (0)\n",
    "    # add the point to the product\n",
    "    # increment counter\n",
    "# print counter\n",
    "p"
   ]
  },
  {
   "cell_type": "code",
   "execution_count": 158,
   "metadata": {
    "collapsed": false
   },
   "outputs": [
    {
     "name": "stdout",
     "output_type": "stream",
     "text": [
      "FieldElement_57896044618658097711785492504343953926634992332820282019728792003956564819949(486662)\n",
      "FieldElement_57896044618658097711785492504343953926634992332820282019728792003956564819949(1)\n",
      "FieldElement_57896044618658097711785492504343953926634992332820282019728792003956564819949(9)\n",
      "FieldElement_57896044618658097711785492504343953926634992332820282019728792003956564819949(1)\n"
     ]
    }
   ],
   "source": [
    "print(a)\n",
    "print(b)\n",
    "print(x)\n",
    "print(b)"
   ]
  },
  {
   "cell_type": "code",
   "execution_count": 159,
   "metadata": {
    "collapsed": false
   },
   "outputs": [
    {
     "name": "stdout",
     "output_type": "stream",
     "text": [
      "Point(9,14781619447589544791020593568409986887264606134616475288964881837755586237401)_57896044618658097711785492504343953926634992332820282019728792003956564819949\n"
     ]
    }
   ],
   "source": [
    "print(p)"
   ]
  },
  {
   "cell_type": "code",
   "execution_count": 160,
   "metadata": {
    "collapsed": false
   },
   "outputs": [],
   "source": [
    "s = (3*p.x**2 + 2 * p.a * p.x + p.b)"
   ]
  },
  {
   "cell_type": "code",
   "execution_count": 161,
   "metadata": {
    "collapsed": false
   },
   "outputs": [],
   "source": [
    "v = (-1 * p.x**3 + p.b * p.x) / (2*p.y)"
   ]
  },
  {
   "cell_type": "code",
   "execution_count": 162,
   "metadata": {
    "collapsed": false
   },
   "outputs": [
    {
     "data": {
      "text/plain": [
       "FieldElement_57896044618658097711785492504343953926634992332820282019728792003956564819949(8760160)"
      ]
     },
     "execution_count": 162,
     "metadata": {},
     "output_type": "execute_result"
    }
   ],
   "source": [
    "s"
   ]
  },
  {
   "cell_type": "code",
   "execution_count": 163,
   "metadata": {
    "collapsed": false
   },
   "outputs": [
    {
     "data": {
      "text/plain": [
       "Point(14847277145635483483963372537557091634710985132825781088887140890597596352251,8914613091229147831277935472048643066880067899251840418855181793938505594211)_57896044618658097711785492504343953926634992332820282019728792003956564819949"
      ]
     },
     "execution_count": 163,
     "metadata": {},
     "output_type": "execute_result"
    }
   ],
   "source": [
    "p + p"
   ]
  },
  {
   "cell_type": "code",
   "execution_count": 164,
   "metadata": {
    "collapsed": false
   },
   "outputs": [
    {
     "name": "stdout",
     "output_type": "stream",
     "text": [
      "1:Point(9,14781619447589544791020593568409986887264606134616475288964881837755586237401)_57896044618658097711785492504343953926634992332820282019728792003956564819949\n",
      "2:Point(14847277145635483483963372537557091634710985132825781088887140890597596352251,8914613091229147831277935472048643066880067899251840418855181793938505594211)_57896044618658097711785492504343953926634992332820282019728792003956564819949\n",
      "3:Point(12697861248284385512127539163427099897745340918349830473877503196793995869202,18782504731206017997790968374142055202547214238579664877619644464800823583275)_57896044618658097711785492504343953926634992332820282019728792003956564819949\n",
      "4:Point(55094879196667521951171181671895976763495004283458921215716618814842818532335,3326902261410125624348978312040953107588569168976051259550493007501242276912)_57896044618658097711785492504343953926634992332820282019728792003956564819949\n",
      "5:Point(29723531761959712214579609737676588517305008794118309711793522224007834336391,40874084639449471205709022392342867673774078808580340264992287101339353033704)_57896044618658097711785492504343953926634992332820282019728792003956564819949\n",
      "6:Point(17451678539560600185097266777375991993731104585431131897611834847293708256561,31131006104309634684361328175742002144904104208782033488817024073862471866709)_57896044618658097711785492504343953926634992332820282019728792003956564819949\n",
      "7:Point(6189616607995615193367150877376005513902989163470402290395604116858034460712,50374912218183152874782770359920331956288684995949584070970333666982233842018)_57896044618658097711785492504343953926634992332820282019728792003956564819949\n",
      "8:Point(17809203070174708532389388378138548413001352690456714369618601795787323709800,14237724838796214062159878346316025257270917293071470965816979700682299635925)_57896044618658097711785492504343953926634992332820282019728792003956564819949\n",
      "9:Point(11384807218513942356548764590664595587752969306595191406117734352138126058682,35890590266128326905707030964473366536871482013512079512685102469470498101238)_57896044618658097711785492504343953926634992332820282019728792003956564819949\n",
      "10:Point(29820225912430724043036921744240028624897194250362921729082802159805426998395,27477231867808634946398188422234309688498245134990516833583512853248786744311)_57896044618658097711785492504343953926634992332820282019728792003956564819949\n"
     ]
    }
   ],
   "source": [
    "total = p\n",
    "count = 1\n",
    "\n",
    "while count < 10:\n",
    "    print('{}:{}'.format(count, total))\n",
    "    total += p\n",
    "    count += 1\n",
    "print('{}:{}'.format(count, total))\n",
    "\n"
   ]
  },
  {
   "cell_type": "code",
   "execution_count": 173,
   "metadata": {
    "collapsed": true
   },
   "outputs": [],
   "source": [
    "P = 2**255 - 19\n",
    "A = 486662\n",
    "B = 1\n",
    "N =  2**252 + 27742317777372353535851937790883648493\n",
    "\n",
    "class S256Field(FieldElement):\n",
    "\n",
    "    def __init__(self, num, prime=None):\n",
    "        super().__init__(num=num, prime=P)\n",
    "\n",
    "    def hex(self):\n",
    "        return '{:x}'.format(self.num).zfill(64)\n",
    "\n",
    "    def __repr__(self):\n",
    "        return self.hex()\n",
    "\n",
    "\n",
    "class S256Point(Point):\n",
    "    bits = 256\n",
    "\n",
    "    def __init__(self, x, y, a=None, b=None):\n",
    "        a, b = S256Field(A), S256Field(B)\n",
    "        if x is None:\n",
    "            super().__init__(x=None, y=None, a=a, b=b)\n",
    "        elif type(x) == int:\n",
    "            super().__init__(x=S256Field(x), y=S256Field(y), a=a, b=b)\n",
    "        else:\n",
    "            super().__init__(x=x, y=y, a=a, b=b)\n",
    "\n",
    "    def __repr__(self):\n",
    "        if self.x is None:\n",
    "            return 'S256Point(infinity)'\n",
    "        else:\n",
    "            return 'S256Point({},{})'.format(self.x, self.y)\n",
    "\n",
    "    def __rmul__(self, coefficient):\n",
    "        # we want to mod by N to make this simple\n",
    "        coef = coefficient % N\n",
    "        # current will undergo binary expansion\n",
    "        current = self\n",
    "        # result is what we return, starts at 0\n",
    "        result = S256Point(None, None)\n",
    "        # we double 256 times and add where there is a 1 in the binary\n",
    "        # representation of coefficient\n",
    "        for i in range(self.bits):\n",
    "            if coef & 1:\n",
    "                result += current\n",
    "            current += current\n",
    "            # we shift the coefficient to the right\n",
    "            coef >>= 1\n",
    "        return result\n",
    "\n",
    "    def sec(self, compressed=True):\n",
    "        # returns the binary version of the sec format, NOT hex\n",
    "        if compressed:\n",
    "            if self.y.num % 2 == 1:\n",
    "                prefix = b'\\x03'\n",
    "            else:\n",
    "                prefix = b'\\x02'\n",
    "            return prefix + self.x.num.to_bytes(32, 'big')\n",
    "        else:\n",
    "            return b'\\x04' + self.x.num.to_bytes(32, 'big') + self.y.num.to_bytes(32, 'big')\n",
    "        # if compressed, starts with b'\\x02' if self.y.num is even, b'\\x03' if self.y is odd\n",
    "        # then self.x.num\n",
    "        # remember, you have to convert self.x.num/self.y.num to binary (some_integer.to_bytes(32, 'big'))\n",
    "        # if non-compressed, starts with b'\\x04' followod by self.x and then self.y\n",
    "        #raise NotImplementedError\n",
    "\n",
    "    def address(self, compressed=True, testnet=False):\n",
    "        '''Returns the address string'''\n",
    "        # get the sec\n",
    "        sec = self.sec(compressed)\n",
    "        # hash160 the sec\n",
    "        h160 = hash160(sec)\n",
    "        # raw is hash 160 prepended w/ b'\\x00' for mainnet, b'\\x6f' for testnet\n",
    "        if testnet:\n",
    "            prefix = b'\\x6f'\n",
    "        else:\n",
    "            prefix = b'\\x00'\n",
    "        raw = prefix + h160\n",
    "        # checksum is first 4 bytes of double_sha256 of raw\n",
    "        checksum = double_sha256(raw)[:4]\n",
    "        # encode_base58 the raw + checksum\n",
    "        address = encode_base58(raw+checksum)\n",
    "        # return as a string, you can use .decode('ascii') to do this.\n",
    "        return address.decode('ascii')"
   ]
  },
  {
   "cell_type": "code",
   "execution_count": 174,
   "metadata": {
    "collapsed": false
   },
   "outputs": [],
   "source": [
    "a = FieldElement(486662, prime)\n",
    "b = FieldElement(1, prime)\n",
    "\n",
    "x = FieldElement(9, prime)\n",
    "y = FieldElement(14781619447589544791020593568409986887264606134616475288964881837755586237401, prime)\n",
    "\n",
    "G = S256Point(x = 9, \n",
    "          y = 14781619447589544791020593568409986887264606134616475288964881837755586237401, \n",
    "          a = 486662, \n",
    "          b = 1)"
   ]
  },
  {
   "cell_type": "code",
   "execution_count": 175,
   "metadata": {
    "collapsed": false
   },
   "outputs": [
    {
     "data": {
      "text/plain": [
       "S256Point(0000000000000000000000000000000000000000000000000000000000000009,20ae19a1b8a086b4e01edd2c7748d14c923d4d7e6d7c61b229e9c5a27eced3d9)"
      ]
     },
     "execution_count": 175,
     "metadata": {},
     "output_type": "execute_result"
    }
   ],
   "source": [
    "G"
   ]
  },
  {
   "cell_type": "code",
   "execution_count": 179,
   "metadata": {
    "collapsed": false
   },
   "outputs": [],
   "source": [
    "point = (29*17)**5*G"
   ]
  },
  {
   "cell_type": "code",
   "execution_count": 188,
   "metadata": {
    "collapsed": true
   },
   "outputs": [],
   "source": [
    "import hashlib\n",
    "\n",
    "def hash160(s):\n",
    "    return hashlib.new('ripemd160', hashlib.sha256(s).digest()).digest()\n",
    "\n",
    "def double_sha256(s):\n",
    "    return hashlib.sha256(hashlib.sha256(s).digest()).digest()\n",
    "\n",
    "def encode_base58(s):\n",
    "    # determine how many 0 bytes (b'\\x00') s starts with\n",
    "    count = 0\n",
    "    for c in s:\n",
    "        if c == 0:\n",
    "            count += 1\n",
    "        else:\n",
    "            break\n",
    "    prefix = b'1' * count\n",
    "    # convert from binary to hex, then hex to integer\n",
    "    num = int(s.hex(), 16)\n",
    "    result = bytearray()\n",
    "    while num > 0:\n",
    "        num, mod = divmod(num, 58)\n",
    "        result.insert(0, BASE58_ALPHABET[mod])\n",
    "\n",
    "    return prefix + bytes(result)\n",
    "\n",
    "BASE58_ALPHABET = b'123456789ABCDEFGHJKLMNPQRSTUVWXYZabcdefghijkmnopqrstuvwxyz'"
   ]
  },
  {
   "cell_type": "code",
   "execution_count": 189,
   "metadata": {
    "collapsed": false
   },
   "outputs": [
    {
     "data": {
      "text/plain": [
       "'1PATKNkEkHaVnw3cquiw8g9iLUXJcCCmJP'"
      ]
     },
     "execution_count": 189,
     "metadata": {},
     "output_type": "execute_result"
    }
   ],
   "source": [
    "point.address()"
   ]
  },
  {
   "cell_type": "code",
   "execution_count": null,
   "metadata": {
    "collapsed": true
   },
   "outputs": [],
   "source": []
  }
 ],
 "metadata": {
  "kernelspec": {
   "display_name": "Python [default]",
   "language": "python",
   "name": "python3"
  },
  "language_info": {
   "codemirror_mode": {
    "name": "ipython",
    "version": 3
   },
   "file_extension": ".py",
   "mimetype": "text/x-python",
   "name": "python",
   "nbconvert_exporter": "python",
   "pygments_lexer": "ipython3",
   "version": "3.6.0"
  }
 },
 "nbformat": 4,
 "nbformat_minor": 2
}
